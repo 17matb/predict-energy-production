{
 "cells": [
  {
   "cell_type": "code",
   "execution_count": 3,
   "id": "1069b60e",
   "metadata": {},
   "outputs": [
    {
     "name": "stdout",
     "output_type": "stream",
     "text": [
      "hello\n"
     ]
    }
   ],
   "source": [
    "print (\"hello\")\n",
    "\n",
    "import pandas as pd\n",
    "# import matplotlib.pyplot as plt\n",
    "# import seaborn as sns"
   ]
  },
  {
   "cell_type": "code",
   "execution_count": 6,
   "id": "a763cc7a",
   "metadata": {},
   "outputs": [
    {
     "name": "stdout",
     "output_type": "stream",
     "text": [
      "Eolienne:\n"
     ]
    },
    {
     "data": {
      "text/html": [
       "<div>\n",
       "<style scoped>\n",
       "    .dataframe tbody tr th:only-of-type {\n",
       "        vertical-align: middle;\n",
       "    }\n",
       "\n",
       "    .dataframe tbody tr th {\n",
       "        vertical-align: top;\n",
       "    }\n",
       "\n",
       "    .dataframe thead th {\n",
       "        text-align: right;\n",
       "    }\n",
       "</style>\n",
       "<table border=\"1\" class=\"dataframe\">\n",
       "  <thead>\n",
       "    <tr style=\"text-align: right;\">\n",
       "      <th></th>\n",
       "      <th>date</th>\n",
       "      <th>prod_eolienne</th>\n",
       "    </tr>\n",
       "  </thead>\n",
       "  <tbody>\n",
       "    <tr>\n",
       "      <th>0</th>\n",
       "      <td>2016-09-01</td>\n",
       "      <td>100.000000</td>\n",
       "    </tr>\n",
       "    <tr>\n",
       "      <th>1</th>\n",
       "      <td>2016-09-02</td>\n",
       "      <td>100.000000</td>\n",
       "    </tr>\n",
       "    <tr>\n",
       "      <th>2</th>\n",
       "      <td>2016-09-03</td>\n",
       "      <td>100.000000</td>\n",
       "    </tr>\n",
       "    <tr>\n",
       "      <th>3</th>\n",
       "      <td>2016-09-04</td>\n",
       "      <td>96.844120</td>\n",
       "    </tr>\n",
       "    <tr>\n",
       "      <th>4</th>\n",
       "      <td>2016-09-05</td>\n",
       "      <td>97.088424</td>\n",
       "    </tr>\n",
       "  </tbody>\n",
       "</table>\n",
       "</div>"
      ],
      "text/plain": [
       "         date  prod_eolienne\n",
       "0  2016-09-01     100.000000\n",
       "1  2016-09-02     100.000000\n",
       "2  2016-09-03     100.000000\n",
       "3  2016-09-04      96.844120\n",
       "4  2016-09-05      97.088424"
      ]
     },
     "metadata": {},
     "output_type": "display_data"
    },
    {
     "name": "stdout",
     "output_type": "stream",
     "text": [
      "Hydro:\n"
     ]
    },
    {
     "data": {
      "text/html": [
       "<div>\n",
       "<style scoped>\n",
       "    .dataframe tbody tr th:only-of-type {\n",
       "        vertical-align: middle;\n",
       "    }\n",
       "\n",
       "    .dataframe tbody tr th {\n",
       "        vertical-align: top;\n",
       "    }\n",
       "\n",
       "    .dataframe thead th {\n",
       "        text-align: right;\n",
       "    }\n",
       "</style>\n",
       "<table border=\"1\" class=\"dataframe\">\n",
       "  <thead>\n",
       "    <tr style=\"text-align: right;\">\n",
       "      <th></th>\n",
       "      <th>date_obs_elab</th>\n",
       "      <th>prod_hydro</th>\n",
       "    </tr>\n",
       "  </thead>\n",
       "  <tbody>\n",
       "    <tr>\n",
       "      <th>0</th>\n",
       "      <td>2022-08-01</td>\n",
       "      <td>200.0</td>\n",
       "    </tr>\n",
       "    <tr>\n",
       "      <th>1</th>\n",
       "      <td>2022-09-01</td>\n",
       "      <td>200.0</td>\n",
       "    </tr>\n",
       "    <tr>\n",
       "      <th>2</th>\n",
       "      <td>2022-10-01</td>\n",
       "      <td>200.0</td>\n",
       "    </tr>\n",
       "    <tr>\n",
       "      <th>3</th>\n",
       "      <td>2022-11-01</td>\n",
       "      <td>200.0</td>\n",
       "    </tr>\n",
       "    <tr>\n",
       "      <th>4</th>\n",
       "      <td>2022-12-01</td>\n",
       "      <td>0.0</td>\n",
       "    </tr>\n",
       "  </tbody>\n",
       "</table>\n",
       "</div>"
      ],
      "text/plain": [
       "  date_obs_elab  prod_hydro\n",
       "0    2022-08-01       200.0\n",
       "1    2022-09-01       200.0\n",
       "2    2022-10-01       200.0\n",
       "3    2022-11-01       200.0\n",
       "4    2022-12-01         0.0"
      ]
     },
     "metadata": {},
     "output_type": "display_data"
    },
    {
     "name": "stdout",
     "output_type": "stream",
     "text": [
      "Solaire:\n"
     ]
    },
    {
     "data": {
      "text/html": [
       "<div>\n",
       "<style scoped>\n",
       "    .dataframe tbody tr th:only-of-type {\n",
       "        vertical-align: middle;\n",
       "    }\n",
       "\n",
       "    .dataframe tbody tr th {\n",
       "        vertical-align: top;\n",
       "    }\n",
       "\n",
       "    .dataframe thead th {\n",
       "        text-align: right;\n",
       "    }\n",
       "</style>\n",
       "<table border=\"1\" class=\"dataframe\">\n",
       "  <thead>\n",
       "    <tr style=\"text-align: right;\">\n",
       "      <th></th>\n",
       "      <th>date</th>\n",
       "      <th>prod_solaire</th>\n",
       "    </tr>\n",
       "  </thead>\n",
       "  <tbody>\n",
       "    <tr>\n",
       "      <th>0</th>\n",
       "      <td>2016-09-01</td>\n",
       "      <td>77.163310</td>\n",
       "    </tr>\n",
       "    <tr>\n",
       "      <th>1</th>\n",
       "      <td>2016-09-02</td>\n",
       "      <td>72.371632</td>\n",
       "    </tr>\n",
       "    <tr>\n",
       "      <th>2</th>\n",
       "      <td>2016-09-03</td>\n",
       "      <td>31.906049</td>\n",
       "    </tr>\n",
       "    <tr>\n",
       "      <th>3</th>\n",
       "      <td>2016-09-04</td>\n",
       "      <td>22.494454</td>\n",
       "    </tr>\n",
       "    <tr>\n",
       "      <th>4</th>\n",
       "      <td>2016-09-05</td>\n",
       "      <td>68.105196</td>\n",
       "    </tr>\n",
       "  </tbody>\n",
       "</table>\n",
       "</div>"
      ],
      "text/plain": [
       "         date  prod_solaire\n",
       "0  2016-09-01     77.163310\n",
       "1  2016-09-02     72.371632\n",
       "2  2016-09-03     31.906049\n",
       "3  2016-09-04     22.494454\n",
       "4  2016-09-05     68.105196"
      ]
     },
     "metadata": {},
     "output_type": "display_data"
    }
   ],
   "source": [
    "\n",
    "\n",
    "# Load DF\n",
    "df_eolienne = pd.read_csv(\"../data/prod/prod_eolienne.csv\")\n",
    "df_hydro = pd.read_csv(\"../data/prod/prod_hydro.csv\")\n",
    "df_solaire = pd.read_csv(\"../data/prod/prod_solaire.csv\")\n",
    "\n",
    "# Test print 5 lignes (row)\n",
    "print(\"Eolienne:\")\n",
    "display(df_eolienne.head())\n",
    "\n",
    "print(\"Hydro:\")\n",
    "display(df_hydro.head())\n",
    "\n",
    "print(\"Solaire:\")\n",
    "display(df_solaire.head())\n"
   ]
  },
  {
   "cell_type": "code",
   "execution_count": 3,
   "id": "523fbb3e",
   "metadata": {},
   "outputs": [
    {
     "name": "stdout",
     "output_type": "stream",
     "text": [
      "=== Exploration de Eolienne ===\n",
      "\n",
      "\n",
      "Infos générales :\n",
      "<class 'pandas.core.frame.DataFrame'>\n",
      "RangeIndex: 3308 entries, 0 to 3307\n",
      "Data columns (total 2 columns):\n",
      " #   Column         Non-Null Count  Dtype  \n",
      "---  ------         --------------  -----  \n",
      " 0   date           3308 non-null   object \n",
      " 1   prod_eolienne  3308 non-null   float64\n",
      "dtypes: float64(1), object(1)\n",
      "memory usage: 51.8+ KB\n"
     ]
    },
    {
     "data": {
      "text/plain": [
       "None"
      ]
     },
     "metadata": {},
     "output_type": "display_data"
    },
    {
     "name": "stdout",
     "output_type": "stream",
     "text": [
      "\n",
      "Valeurs manquantes :\n"
     ]
    },
    {
     "data": {
      "application/vnd.microsoft.datawrangler.viewer.v0+json": {
       "columns": [
        {
         "name": "index",
         "rawType": "object",
         "type": "string"
        },
        {
         "name": "0",
         "rawType": "int64",
         "type": "integer"
        }
       ],
       "ref": "afba4720-f6a2-4459-8aa4-2613aa170897",
       "rows": [
        [
         "date",
         "0"
        ],
        [
         "prod_eolienne",
         "0"
        ]
       ],
       "shape": {
        "columns": 1,
        "rows": 2
       }
      },
      "text/plain": [
       "date             0\n",
       "prod_eolienne    0\n",
       "dtype: int64"
      ]
     },
     "metadata": {},
     "output_type": "display_data"
    },
    {
     "name": "stdout",
     "output_type": "stream",
     "text": [
      "\n",
      "Statistiques descriptives :\n"
     ]
    },
    {
     "data": {
      "application/vnd.microsoft.datawrangler.viewer.v0+json": {
       "columns": [
        {
         "name": "index",
         "rawType": "object",
         "type": "string"
        },
        {
         "name": "prod_eolienne",
         "rawType": "float64",
         "type": "float"
        }
       ],
       "ref": "e2ad7e0f-b860-4260-b209-042141bead66",
       "rows": [
        [
         "count",
         "3308.0"
        ],
        [
         "mean",
         "60.26173977201655"
        ],
        [
         "std",
         "27.466505330198185"
        ],
        [
         "min",
         "-48.99760076569133"
        ],
        [
         "25%",
         "44.321585195301964"
        ],
        [
         "50%",
         "61.73079379824004"
        ],
        [
         "75%",
         "76.85986944997983"
        ],
        [
         "max",
         "833.5169844120599"
        ]
       ],
       "shape": {
        "columns": 1,
        "rows": 8
       }
      },
      "text/html": [
       "<div>\n",
       "<style scoped>\n",
       "    .dataframe tbody tr th:only-of-type {\n",
       "        vertical-align: middle;\n",
       "    }\n",
       "\n",
       "    .dataframe tbody tr th {\n",
       "        vertical-align: top;\n",
       "    }\n",
       "\n",
       "    .dataframe thead th {\n",
       "        text-align: right;\n",
       "    }\n",
       "</style>\n",
       "<table border=\"1\" class=\"dataframe\">\n",
       "  <thead>\n",
       "    <tr style=\"text-align: right;\">\n",
       "      <th></th>\n",
       "      <th>prod_eolienne</th>\n",
       "    </tr>\n",
       "  </thead>\n",
       "  <tbody>\n",
       "    <tr>\n",
       "      <th>count</th>\n",
       "      <td>3308.000000</td>\n",
       "    </tr>\n",
       "    <tr>\n",
       "      <th>mean</th>\n",
       "      <td>60.261740</td>\n",
       "    </tr>\n",
       "    <tr>\n",
       "      <th>std</th>\n",
       "      <td>27.466505</td>\n",
       "    </tr>\n",
       "    <tr>\n",
       "      <th>min</th>\n",
       "      <td>-48.997601</td>\n",
       "    </tr>\n",
       "    <tr>\n",
       "      <th>25%</th>\n",
       "      <td>44.321585</td>\n",
       "    </tr>\n",
       "    <tr>\n",
       "      <th>50%</th>\n",
       "      <td>61.730794</td>\n",
       "    </tr>\n",
       "    <tr>\n",
       "      <th>75%</th>\n",
       "      <td>76.859869</td>\n",
       "    </tr>\n",
       "    <tr>\n",
       "      <th>max</th>\n",
       "      <td>833.516984</td>\n",
       "    </tr>\n",
       "  </tbody>\n",
       "</table>\n",
       "</div>"
      ],
      "text/plain": [
       "       prod_eolienne\n",
       "count    3308.000000\n",
       "mean       60.261740\n",
       "std        27.466505\n",
       "min       -48.997601\n",
       "25%        44.321585\n",
       "50%        61.730794\n",
       "75%        76.859869\n",
       "max       833.516984"
      ]
     },
     "metadata": {},
     "output_type": "display_data"
    },
    {
     "data": {
      "image/png": "[encoded data removed]",
      "text/plain": [
       "<Figure size 800x400 with 1 Axes>"
      ]
     },
     "metadata": {},
     "output_type": "display_data"
    },
    {
     "name": "stdout",
     "output_type": "stream",
     "text": [
      "=== Exploration de Hydro ===\n",
      "\n",
      "\n",
      "Infos générales :\n",
      "<class 'pandas.core.frame.DataFrame'>\n",
      "RangeIndex: 996 entries, 0 to 995\n",
      "Data columns (total 2 columns):\n",
      " #   Column         Non-Null Count  Dtype  \n",
      "---  ------         --------------  -----  \n",
      " 0   date_obs_elab  996 non-null    object \n",
      " 1   prod_hydro     996 non-null    float64\n",
      "dtypes: float64(1), object(1)\n",
      "memory usage: 15.7+ KB\n"
     ]
    },
    {
     "data": {
      "text/plain": [
       "None"
      ]
     },
     "metadata": {},
     "output_type": "display_data"
    },
    {
     "name": "stdout",
     "output_type": "stream",
     "text": [
      "\n",
      "Valeurs manquantes :\n"
     ]
    },
    {
     "data": {
      "application/vnd.microsoft.datawrangler.viewer.v0+json": {
       "columns": [
        {
         "name": "index",
         "rawType": "object",
         "type": "string"
        },
        {
         "name": "0",
         "rawType": "int64",
         "type": "integer"
        }
       ],
       "ref": "2a3a80d3-4364-4b6d-8162-05781158378c",
       "rows": [
        [
         "date_obs_elab",
         "0"
        ],
        [
         "prod_hydro",
         "0"
        ]
       ],
       "shape": {
        "columns": 1,
        "rows": 2
       }
      },
      "text/plain": [
       "date_obs_elab    0\n",
       "prod_hydro       0\n",
       "dtype: int64"
      ]
     },
     "metadata": {},
     "output_type": "display_data"
    },
    {
     "name": "stdout",
     "output_type": "stream",
     "text": [
      "\n",
      "Statistiques descriptives :\n"
     ]
    },
    {
     "data": {
      "application/vnd.microsoft.datawrangler.viewer.v0+json": {
       "columns": [
        {
         "name": "index",
         "rawType": "object",
         "type": "string"
        },
        {
         "name": "prod_hydro",
         "rawType": "float64",
         "type": "float"
        }
       ],
       "ref": "0868c873-a51f-461d-94ca-3ae6df9e129e",
       "rows": [
        [
         "count",
         "996.0"
        ],
        [
         "mean",
         "192.1389066671117"
        ],
        [
         "std",
         "71.21644623745476"
        ],
        [
         "min",
         "0.0"
        ],
        [
         "25%",
         "200.0"
        ],
        [
         "50%",
         "200.0"
        ],
        [
         "75%",
         "200.0"
        ],
        [
         "max",
         "2000.0"
        ]
       ],
       "shape": {
        "columns": 1,
        "rows": 8
       }
      },
      "text/html": [
       "<div>\n",
       "<style scoped>\n",
       "    .dataframe tbody tr th:only-of-type {\n",
       "        vertical-align: middle;\n",
       "    }\n",
       "\n",
       "    .dataframe tbody tr th {\n",
       "        vertical-align: top;\n",
       "    }\n",
       "\n",
       "    .dataframe thead th {\n",
       "        text-align: right;\n",
       "    }\n",
       "</style>\n",
       "<table border=\"1\" class=\"dataframe\">\n",
       "  <thead>\n",
       "    <tr style=\"text-align: right;\">\n",
       "      <th></th>\n",
       "      <th>prod_hydro</th>\n",
       "    </tr>\n",
       "  </thead>\n",
       "  <tbody>\n",
       "    <tr>\n",
       "      <th>count</th>\n",
       "      <td>996.000000</td>\n",
       "    </tr>\n",
       "    <tr>\n",
       "      <th>mean</th>\n",
       "      <td>192.138907</td>\n",
       "    </tr>\n",
       "    <tr>\n",
       "      <th>std</th>\n",
       "      <td>71.216446</td>\n",
       "    </tr>\n",
       "    <tr>\n",
       "      <th>min</th>\n",
       "      <td>0.000000</td>\n",
       "    </tr>\n",
       "    <tr>\n",
       "      <th>25%</th>\n",
       "      <td>200.000000</td>\n",
       "    </tr>\n",
       "    <tr>\n",
       "      <th>50%</th>\n",
       "      <td>200.000000</td>\n",
       "    </tr>\n",
       "    <tr>\n",
       "      <th>75%</th>\n",
       "      <td>200.000000</td>\n",
       "    </tr>\n",
       "    <tr>\n",
       "      <th>max</th>\n",
       "      <td>2000.000000</td>\n",
       "    </tr>\n",
       "  </tbody>\n",
       "</table>\n",
       "</div>"
      ],
      "text/plain": [
       "        prod_hydro\n",
       "count   996.000000\n",
       "mean    192.138907\n",
       "std      71.216446\n",
       "min       0.000000\n",
       "25%     200.000000\n",
       "50%     200.000000\n",
       "75%     200.000000\n",
       "max    2000.000000"
      ]
     },
     "metadata": {},
     "output_type": "display_data"
    },
    {
     "data": {
      "image/png": "[encoded data removed]",
      "text/plain": [
       "<Figure size 800x400 with 1 Axes>"
      ]
     },
     "metadata": {},
     "output_type": "display_data"
    },
    {
     "name": "stdout",
     "output_type": "stream",
     "text": [
      "=== Exploration de Solaire ===\n",
      "\n",
      "\n",
      "Infos générales :\n",
      "<class 'pandas.core.frame.DataFrame'>\n",
      "RangeIndex: 3312 entries, 0 to 3311\n",
      "Data columns (total 2 columns):\n",
      " #   Column        Non-Null Count  Dtype  \n",
      "---  ------        --------------  -----  \n",
      " 0   date          3312 non-null   object \n",
      " 1   prod_solaire  3310 non-null   float64\n",
      "dtypes: float64(1), object(1)\n",
      "memory usage: 51.9+ KB\n"
     ]
    },
    {
     "data": {
      "text/plain": [
       "None"
      ]
     },
     "metadata": {},
     "output_type": "display_data"
    },
    {
     "name": "stdout",
     "output_type": "stream",
     "text": [
      "\n",
      "Valeurs manquantes :\n"
     ]
    },
    {
     "data": {
      "application/vnd.microsoft.datawrangler.viewer.v0+json": {
       "columns": [
        {
         "name": "index",
         "rawType": "object",
         "type": "string"
        },
        {
         "name": "0",
         "rawType": "int64",
         "type": "integer"
        }
       ],
       "ref": "8a96bc35-0e37-43ea-9a87-be3ceff73e5b",
       "rows": [
        [
         "date",
         "0"
        ],
        [
         "prod_solaire",
         "2"
        ]
       ],
       "shape": {
        "columns": 1,
        "rows": 2
       }
      },
      "text/plain": [
       "date            0\n",
       "prod_solaire    2\n",
       "dtype: int64"
      ]
     },
     "metadata": {},
     "output_type": "display_data"
    },
    {
     "name": "stdout",
     "output_type": "stream",
     "text": [
      "\n",
      "Statistiques descriptives :\n"
     ]
    },
    {
     "data": {
      "application/vnd.microsoft.datawrangler.viewer.v0+json": {
       "columns": [
        {
         "name": "index",
         "rawType": "object",
         "type": "string"
        },
        {
         "name": "prod_solaire",
         "rawType": "float64",
         "type": "float"
        }
       ],
       "ref": "68ceb0c1-eb77-481e-952b-35eb3b46b732",
       "rows": [
        [
         "count",
         "3310.0"
        ],
        [
         "mean",
         "47.79764327190527"
        ],
        [
         "std",
         "30.22845866260393"
        ],
        [
         "min",
         "0.0"
        ],
        [
         "25%",
         "23.341965145655863"
        ],
        [
         "50%",
         "43.82863425860319"
        ],
        [
         "75%",
         "71.486125897211"
        ],
        [
         "max",
         "551.9080831173968"
        ]
       ],
       "shape": {
        "columns": 1,
        "rows": 8
       }
      },
      "text/html": [
       "<div>\n",
       "<style scoped>\n",
       "    .dataframe tbody tr th:only-of-type {\n",
       "        vertical-align: middle;\n",
       "    }\n",
       "\n",
       "    .dataframe tbody tr th {\n",
       "        vertical-align: top;\n",
       "    }\n",
       "\n",
       "    .dataframe thead th {\n",
       "        text-align: right;\n",
       "    }\n",
       "</style>\n",
       "<table border=\"1\" class=\"dataframe\">\n",
       "  <thead>\n",
       "    <tr style=\"text-align: right;\">\n",
       "      <th></th>\n",
       "      <th>prod_solaire</th>\n",
       "    </tr>\n",
       "  </thead>\n",
       "  <tbody>\n",
       "    <tr>\n",
       "      <th>count</th>\n",
       "      <td>3310.000000</td>\n",
       "    </tr>\n",
       "    <tr>\n",
       "      <th>mean</th>\n",
       "      <td>47.797643</td>\n",
       "    </tr>\n",
       "    <tr>\n",
       "      <th>std</th>\n",
       "      <td>30.228459</td>\n",
       "    </tr>\n",
       "    <tr>\n",
       "      <th>min</th>\n",
       "      <td>0.000000</td>\n",
       "    </tr>\n",
       "    <tr>\n",
       "      <th>25%</th>\n",
       "      <td>23.341965</td>\n",
       "    </tr>\n",
       "    <tr>\n",
       "      <th>50%</th>\n",
       "      <td>43.828634</td>\n",
       "    </tr>\n",
       "    <tr>\n",
       "      <th>75%</th>\n",
       "      <td>71.486126</td>\n",
       "    </tr>\n",
       "    <tr>\n",
       "      <th>max</th>\n",
       "      <td>551.908083</td>\n",
       "    </tr>\n",
       "  </tbody>\n",
       "</table>\n",
       "</div>"
      ],
      "text/plain": [
       "       prod_solaire\n",
       "count   3310.000000\n",
       "mean      47.797643\n",
       "std       30.228459\n",
       "min        0.000000\n",
       "25%       23.341965\n",
       "50%       43.828634\n",
       "75%       71.486126\n",
       "max      551.908083"
      ]
     },
     "metadata": {},
     "output_type": "display_data"
    },
    {
     "data": {
      "image/png": "[encoded data removed]",
      "text/plain": [
       "<Figure size 800x400 with 1 Axes>"
      ]
     },
     "metadata": {},
     "output_type": "display_data"
    }
   ],
   "source": [
    "\n",
    "# Explo rapide\n",
    "def explore_df(df, name):\n",
    "    print(f\"=== Exploration de {name} ===\\n\")\n",
    "    print(\"\\nInfos générales :\")\n",
    "    display(df.info())\n",
    "    print(\"\\nValeurs manquantes :\")\n",
    "    display(df.isnull().sum())\n",
    "    print(\"\\nStatistiques descriptives :\")\n",
    "    display(df.describe())\n",
    "    \n",
    "    # Visu rapide\n",
    "    num_cols = df.select_dtypes(include=\"number\").columns\n",
    "    for col in num_cols:\n",
    "        plt.figure(figsize=(8,4))\n",
    "        sns.histplot(df[col], kde=True)\n",
    "        plt.title(f\"Distribution de {col} - {name}\")\n",
    "        plt.show()\n",
    "\n",
    "# Explo individuelle\n",
    "explore_df(df_eolienne, \"Eolienne\")\n",
    "explore_df(df_hydro, \"Hydro\")\n",
    "explore_df(df_solaire, \"Solaire\")\n"
   ]
  },
  {
   "cell_type": "code",
   "execution_count": 4,
   "id": "a974db52",
   "metadata": {},
   "outputs": [
    {
     "name": "stdout",
     "output_type": "stream",
     "text": [
      "datetime64[ns]\n",
      "datetime64[ns]\n",
      "datetime64[ns]\n"
     ]
    }
   ],
   "source": [
    "\n",
    "# Conversion en datetime\n",
    "df_eolienne[\"date\"] = pd.to_datetime(df_eolienne[\"date\"], errors=\"coerce\")\n",
    "\n",
    "df_hydro[\"date_obs_elab\"] = pd.to_datetime(df_hydro[\"date_obs_elab\"], errors=\"coerce\")\n",
    "\n",
    "df_solaire[\"date\"] = pd.to_datetime(df_solaire[\"date\"], errors=\"coerce\")\n",
    "\n",
    "print(df_eolienne[\"date\"].dtype) \n",
    "print(df_hydro[\"date_obs_elab\"].dtype)\n",
    "print(df_solaire[\"date\"].dtype)\n"
   ]
  },
  {
   "cell_type": "code",
   "execution_count": 5,
   "id": "536703c6",
   "metadata": {},
   "outputs": [
    {
     "data": {
      "application/vnd.microsoft.datawrangler.viewer.v0+json": {
       "columns": [
        {
         "name": "index",
         "rawType": "int64",
         "type": "integer"
        },
        {
         "name": "date",
         "rawType": "datetime64[ns]",
         "type": "datetime"
        },
        {
         "name": "prod_hydro",
         "rawType": "float64",
         "type": "float"
        }
       ],
       "ref": "facd627b-769d-4079-a712-5845baf03d41",
       "rows": [
        [
         "0",
         "2022-08-01 00:00:00",
         "200.0"
        ],
        [
         "1",
         "2022-09-01 00:00:00",
         "200.0"
        ],
        [
         "2",
         "2022-10-01 00:00:00",
         "200.0"
        ],
        [
         "3",
         "2022-11-01 00:00:00",
         "200.0"
        ],
        [
         "4",
         "2022-12-01 00:00:00",
         "0.0"
        ]
       ],
       "shape": {
        "columns": 2,
        "rows": 5
       }
      },
      "text/html": [
       "<div>\n",
       "<style scoped>\n",
       "    .dataframe tbody tr th:only-of-type {\n",
       "        vertical-align: middle;\n",
       "    }\n",
       "\n",
       "    .dataframe tbody tr th {\n",
       "        vertical-align: top;\n",
       "    }\n",
       "\n",
       "    .dataframe thead th {\n",
       "        text-align: right;\n",
       "    }\n",
       "</style>\n",
       "<table border=\"1\" class=\"dataframe\">\n",
       "  <thead>\n",
       "    <tr style=\"text-align: right;\">\n",
       "      <th></th>\n",
       "      <th>date</th>\n",
       "      <th>prod_hydro</th>\n",
       "    </tr>\n",
       "  </thead>\n",
       "  <tbody>\n",
       "    <tr>\n",
       "      <th>0</th>\n",
       "      <td>2022-08-01</td>\n",
       "      <td>200.0</td>\n",
       "    </tr>\n",
       "    <tr>\n",
       "      <th>1</th>\n",
       "      <td>2022-09-01</td>\n",
       "      <td>200.0</td>\n",
       "    </tr>\n",
       "    <tr>\n",
       "      <th>2</th>\n",
       "      <td>2022-10-01</td>\n",
       "      <td>200.0</td>\n",
       "    </tr>\n",
       "    <tr>\n",
       "      <th>3</th>\n",
       "      <td>2022-11-01</td>\n",
       "      <td>200.0</td>\n",
       "    </tr>\n",
       "    <tr>\n",
       "      <th>4</th>\n",
       "      <td>2022-12-01</td>\n",
       "      <td>0.0</td>\n",
       "    </tr>\n",
       "  </tbody>\n",
       "</table>\n",
       "</div>"
      ],
      "text/plain": [
       "        date  prod_hydro\n",
       "0 2022-08-01       200.0\n",
       "1 2022-09-01       200.0\n",
       "2 2022-10-01       200.0\n",
       "3 2022-11-01       200.0\n",
       "4 2022-12-01         0.0"
      ]
     },
     "execution_count": 5,
     "metadata": {},
     "output_type": "execute_result"
    }
   ],
   "source": [
    "# Rename de la colonne date_obs_elab du df_hydro pour matcher avec les 2 autres DF\n",
    "df_hydro.rename(columns={'date_obs_elab' : 'date'},inplace=True)\n",
    "df_hydro.head()"
   ]
  },
  {
   "cell_type": "code",
   "execution_count": 6,
   "id": "24d6a721",
   "metadata": {},
   "outputs": [
    {
     "name": "stdout",
     "output_type": "stream",
     "text": [
      "\n",
      "=== Eolienne ===\n",
      "Aucun doublon trouvé ✅\n",
      "\n",
      "=== Hydro ===\n",
      "60 doublons trouvés\n"
     ]
    },
    {
     "data": {
      "application/vnd.microsoft.datawrangler.viewer.v0+json": {
       "columns": [
        {
         "name": "index",
         "rawType": "int64",
         "type": "integer"
        },
        {
         "name": "date",
         "rawType": "datetime64[ns]",
         "type": "datetime"
        },
        {
         "name": "prod_hydro",
         "rawType": "float64",
         "type": "float"
        }
       ],
       "ref": "a55c8284-e33e-42df-bafd-5d8a54d8cc9c",
       "rows": [
        [
         "0",
         "2022-08-01 00:00:00",
         "200.0"
        ],
        [
         "61",
         "2022-08-01 00:00:00",
         "200.0"
        ],
        [
         "1",
         "2022-09-01 00:00:00",
         "200.0"
        ],
        [
         "92",
         "2022-09-01 00:00:00",
         "200.0"
        ],
        [
         "2",
         "2022-10-01 00:00:00",
         "200.0"
        ],
        [
         "122",
         "2022-10-01 00:00:00",
         "200.0"
        ],
        [
         "3",
         "2022-11-01 00:00:00",
         "200.0"
        ],
        [
         "153",
         "2022-11-01 00:00:00",
         "200.0"
        ],
        [
         "4",
         "2022-12-01 00:00:00",
         "0.0"
        ],
        [
         "183",
         "2022-12-01 00:00:00",
         "200.0"
        ],
        [
         "212",
         "2023-01-01 00:00:00",
         "200.0"
        ],
        [
         "5",
         "2023-01-01 00:00:00",
         "200.0"
        ],
        [
         "243",
         "2023-02-01 00:00:00",
         "200.0"
        ],
        [
         "6",
         "2023-02-01 00:00:00",
         "200.0"
        ],
        [
         "271",
         "2023-03-01 00:00:00",
         "200.0"
        ],
        [
         "7",
         "2023-03-01 00:00:00",
         "200.0"
        ],
        [
         "8",
         "2023-04-01 00:00:00",
         "200.0"
        ],
        [
         "302",
         "2023-04-01 00:00:00",
         "200.0"
        ],
        [
         "362",
         "2023-06-01 00:00:00",
         "200.0"
        ],
        [
         "9",
         "2023-06-01 00:00:00",
         "200.0"
        ],
        [
         "10",
         "2023-07-01 00:00:00",
         "200.0"
        ],
        [
         "392",
         "2023-07-01 00:00:00",
         "200.0"
        ],
        [
         "11",
         "2023-08-01 00:00:00",
         "200.0"
        ],
        [
         "423",
         "2023-08-01 00:00:00",
         "200.0"
        ],
        [
         "12",
         "2023-09-01 00:00:00",
         "200.0"
        ],
        [
         "454",
         "2023-09-01 00:00:00",
         "200.0"
        ],
        [
         "484",
         "2023-10-01 00:00:00",
         "200.0"
        ],
        [
         "13",
         "2023-10-01 00:00:00",
         "200.0"
        ],
        [
         "515",
         "2023-11-01 00:00:00",
         "200.0"
        ],
        [
         "14",
         "2023-11-01 00:00:00",
         "200.0"
        ],
        [
         "545",
         "2023-12-01 00:00:00",
         "200.0"
        ],
        [
         "15",
         "2023-12-01 00:00:00",
         "200.0"
        ],
        [
         "16",
         "2024-01-01 00:00:00",
         "200.0"
        ],
        [
         "576",
         "2024-01-01 00:00:00",
         "200.0"
        ],
        [
         "607",
         "2024-02-01 00:00:00",
         "200.0"
        ],
        [
         "17",
         "2024-02-01 00:00:00",
         "200.0"
        ],
        [
         "636",
         "2024-03-01 00:00:00",
         "200.0"
        ],
        [
         "18",
         "2024-03-01 00:00:00",
         "200.0"
        ],
        [
         "667",
         "2024-04-01 00:00:00",
         "200.0"
        ],
        [
         "19",
         "2024-04-01 00:00:00",
         "200.0"
        ],
        [
         "697",
         "2024-05-01 00:00:00",
         "200.0"
        ],
        [
         "20",
         "2024-05-01 00:00:00",
         "200.0"
        ],
        [
         "728",
         "2024-06-01 00:00:00",
         "200.0"
        ],
        [
         "21",
         "2024-06-01 00:00:00",
         "200.0"
        ],
        [
         "758",
         "2024-07-01 00:00:00",
         "200.0"
        ],
        [
         "22",
         "2024-07-01 00:00:00",
         "200.0"
        ],
        [
         "789",
         "2024-08-01 00:00:00",
         "200.0"
        ],
        [
         "23",
         "2024-08-01 00:00:00",
         "200.0"
        ],
        [
         "24",
         "2024-09-01 00:00:00",
         "200.0"
        ],
        [
         "820",
         "2024-09-01 00:00:00",
         "200.0"
        ]
       ],
       "shape": {
        "columns": 2,
        "rows": 60
       }
      },
      "text/html": [
       "<div>\n",
       "<style scoped>\n",
       "    .dataframe tbody tr th:only-of-type {\n",
       "        vertical-align: middle;\n",
       "    }\n",
       "\n",
       "    .dataframe tbody tr th {\n",
       "        vertical-align: top;\n",
       "    }\n",
       "\n",
       "    .dataframe thead th {\n",
       "        text-align: right;\n",
       "    }\n",
       "</style>\n",
       "<table border=\"1\" class=\"dataframe\">\n",
       "  <thead>\n",
       "    <tr style=\"text-align: right;\">\n",
       "      <th></th>\n",
       "      <th>date</th>\n",
       "      <th>prod_hydro</th>\n",
       "    </tr>\n",
       "  </thead>\n",
       "  <tbody>\n",
       "    <tr>\n",
       "      <th>0</th>\n",
       "      <td>2022-08-01</td>\n",
       "      <td>200.0</td>\n",
       "    </tr>\n",
       "    <tr>\n",
       "      <th>61</th>\n",
       "      <td>2022-08-01</td>\n",
       "      <td>200.0</td>\n",
       "    </tr>\n",
       "    <tr>\n",
       "      <th>1</th>\n",
       "      <td>2022-09-01</td>\n",
       "      <td>200.0</td>\n",
       "    </tr>\n",
       "    <tr>\n",
       "      <th>92</th>\n",
       "      <td>2022-09-01</td>\n",
       "      <td>200.0</td>\n",
       "    </tr>\n",
       "    <tr>\n",
       "      <th>2</th>\n",
       "      <td>2022-10-01</td>\n",
       "      <td>200.0</td>\n",
       "    </tr>\n",
       "    <tr>\n",
       "      <th>122</th>\n",
       "      <td>2022-10-01</td>\n",
       "      <td>200.0</td>\n",
       "    </tr>\n",
       "    <tr>\n",
       "      <th>3</th>\n",
       "      <td>2022-11-01</td>\n",
       "      <td>200.0</td>\n",
       "    </tr>\n",
       "    <tr>\n",
       "      <th>153</th>\n",
       "      <td>2022-11-01</td>\n",
       "      <td>200.0</td>\n",
       "    </tr>\n",
       "    <tr>\n",
       "      <th>4</th>\n",
       "      <td>2022-12-01</td>\n",
       "      <td>0.0</td>\n",
       "    </tr>\n",
       "    <tr>\n",
       "      <th>183</th>\n",
       "      <td>2022-12-01</td>\n",
       "      <td>200.0</td>\n",
       "    </tr>\n",
       "    <tr>\n",
       "      <th>212</th>\n",
       "      <td>2023-01-01</td>\n",
       "      <td>200.0</td>\n",
       "    </tr>\n",
       "    <tr>\n",
       "      <th>5</th>\n",
       "      <td>2023-01-01</td>\n",
       "      <td>200.0</td>\n",
       "    </tr>\n",
       "    <tr>\n",
       "      <th>243</th>\n",
       "      <td>2023-02-01</td>\n",
       "      <td>200.0</td>\n",
       "    </tr>\n",
       "    <tr>\n",
       "      <th>6</th>\n",
       "      <td>2023-02-01</td>\n",
       "      <td>200.0</td>\n",
       "    </tr>\n",
       "    <tr>\n",
       "      <th>271</th>\n",
       "      <td>2023-03-01</td>\n",
       "      <td>200.0</td>\n",
       "    </tr>\n",
       "    <tr>\n",
       "      <th>7</th>\n",
       "      <td>2023-03-01</td>\n",
       "      <td>200.0</td>\n",
       "    </tr>\n",
       "    <tr>\n",
       "      <th>8</th>\n",
       "      <td>2023-04-01</td>\n",
       "      <td>200.0</td>\n",
       "    </tr>\n",
       "    <tr>\n",
       "      <th>302</th>\n",
       "      <td>2023-04-01</td>\n",
       "      <td>200.0</td>\n",
       "    </tr>\n",
       "    <tr>\n",
       "      <th>362</th>\n",
       "      <td>2023-06-01</td>\n",
       "      <td>200.0</td>\n",
       "    </tr>\n",
       "    <tr>\n",
       "      <th>9</th>\n",
       "      <td>2023-06-01</td>\n",
       "      <td>200.0</td>\n",
       "    </tr>\n",
       "    <tr>\n",
       "      <th>10</th>\n",
       "      <td>2023-07-01</td>\n",
       "      <td>200.0</td>\n",
       "    </tr>\n",
       "    <tr>\n",
       "      <th>392</th>\n",
       "      <td>2023-07-01</td>\n",
       "      <td>200.0</td>\n",
       "    </tr>\n",
       "    <tr>\n",
       "      <th>11</th>\n",
       "      <td>2023-08-01</td>\n",
       "      <td>200.0</td>\n",
       "    </tr>\n",
       "    <tr>\n",
       "      <th>423</th>\n",
       "      <td>2023-08-01</td>\n",
       "      <td>200.0</td>\n",
       "    </tr>\n",
       "    <tr>\n",
       "      <th>12</th>\n",
       "      <td>2023-09-01</td>\n",
       "      <td>200.0</td>\n",
       "    </tr>\n",
       "    <tr>\n",
       "      <th>454</th>\n",
       "      <td>2023-09-01</td>\n",
       "      <td>200.0</td>\n",
       "    </tr>\n",
       "    <tr>\n",
       "      <th>484</th>\n",
       "      <td>2023-10-01</td>\n",
       "      <td>200.0</td>\n",
       "    </tr>\n",
       "    <tr>\n",
       "      <th>13</th>\n",
       "      <td>2023-10-01</td>\n",
       "      <td>200.0</td>\n",
       "    </tr>\n",
       "    <tr>\n",
       "      <th>515</th>\n",
       "      <td>2023-11-01</td>\n",
       "      <td>200.0</td>\n",
       "    </tr>\n",
       "    <tr>\n",
       "      <th>14</th>\n",
       "      <td>2023-11-01</td>\n",
       "      <td>200.0</td>\n",
       "    </tr>\n",
       "    <tr>\n",
       "      <th>545</th>\n",
       "      <td>2023-12-01</td>\n",
       "      <td>200.0</td>\n",
       "    </tr>\n",
       "    <tr>\n",
       "      <th>15</th>\n",
       "      <td>2023-12-01</td>\n",
       "      <td>200.0</td>\n",
       "    </tr>\n",
       "    <tr>\n",
       "      <th>16</th>\n",
       "      <td>2024-01-01</td>\n",
       "      <td>200.0</td>\n",
       "    </tr>\n",
       "    <tr>\n",
       "      <th>576</th>\n",
       "      <td>2024-01-01</td>\n",
       "      <td>200.0</td>\n",
       "    </tr>\n",
       "    <tr>\n",
       "      <th>607</th>\n",
       "      <td>2024-02-01</td>\n",
       "      <td>200.0</td>\n",
       "    </tr>\n",
       "    <tr>\n",
       "      <th>17</th>\n",
       "      <td>2024-02-01</td>\n",
       "      <td>200.0</td>\n",
       "    </tr>\n",
       "    <tr>\n",
       "      <th>636</th>\n",
       "      <td>2024-03-01</td>\n",
       "      <td>200.0</td>\n",
       "    </tr>\n",
       "    <tr>\n",
       "      <th>18</th>\n",
       "      <td>2024-03-01</td>\n",
       "      <td>200.0</td>\n",
       "    </tr>\n",
       "    <tr>\n",
       "      <th>667</th>\n",
       "      <td>2024-04-01</td>\n",
       "      <td>200.0</td>\n",
       "    </tr>\n",
       "    <tr>\n",
       "      <th>19</th>\n",
       "      <td>2024-04-01</td>\n",
       "      <td>200.0</td>\n",
       "    </tr>\n",
       "    <tr>\n",
       "      <th>697</th>\n",
       "      <td>2024-05-01</td>\n",
       "      <td>200.0</td>\n",
       "    </tr>\n",
       "    <tr>\n",
       "      <th>20</th>\n",
       "      <td>2024-05-01</td>\n",
       "      <td>200.0</td>\n",
       "    </tr>\n",
       "    <tr>\n",
       "      <th>728</th>\n",
       "      <td>2024-06-01</td>\n",
       "      <td>200.0</td>\n",
       "    </tr>\n",
       "    <tr>\n",
       "      <th>21</th>\n",
       "      <td>2024-06-01</td>\n",
       "      <td>200.0</td>\n",
       "    </tr>\n",
       "    <tr>\n",
       "      <th>758</th>\n",
       "      <td>2024-07-01</td>\n",
       "      <td>200.0</td>\n",
       "    </tr>\n",
       "    <tr>\n",
       "      <th>22</th>\n",
       "      <td>2024-07-01</td>\n",
       "      <td>200.0</td>\n",
       "    </tr>\n",
       "    <tr>\n",
       "      <th>789</th>\n",
       "      <td>2024-08-01</td>\n",
       "      <td>200.0</td>\n",
       "    </tr>\n",
       "    <tr>\n",
       "      <th>23</th>\n",
       "      <td>2024-08-01</td>\n",
       "      <td>200.0</td>\n",
       "    </tr>\n",
       "    <tr>\n",
       "      <th>24</th>\n",
       "      <td>2024-09-01</td>\n",
       "      <td>200.0</td>\n",
       "    </tr>\n",
       "    <tr>\n",
       "      <th>820</th>\n",
       "      <td>2024-09-01</td>\n",
       "      <td>200.0</td>\n",
       "    </tr>\n",
       "    <tr>\n",
       "      <th>850</th>\n",
       "      <td>2024-10-01</td>\n",
       "      <td>200.0</td>\n",
       "    </tr>\n",
       "    <tr>\n",
       "      <th>25</th>\n",
       "      <td>2024-10-01</td>\n",
       "      <td>200.0</td>\n",
       "    </tr>\n",
       "    <tr>\n",
       "      <th>881</th>\n",
       "      <td>2024-11-01</td>\n",
       "      <td>200.0</td>\n",
       "    </tr>\n",
       "    <tr>\n",
       "      <th>26</th>\n",
       "      <td>2024-11-01</td>\n",
       "      <td>200.0</td>\n",
       "    </tr>\n",
       "    <tr>\n",
       "      <th>911</th>\n",
       "      <td>2024-12-01</td>\n",
       "      <td>200.0</td>\n",
       "    </tr>\n",
       "    <tr>\n",
       "      <th>27</th>\n",
       "      <td>2024-12-01</td>\n",
       "      <td>200.0</td>\n",
       "    </tr>\n",
       "    <tr>\n",
       "      <th>942</th>\n",
       "      <td>2025-01-01</td>\n",
       "      <td>200.0</td>\n",
       "    </tr>\n",
       "    <tr>\n",
       "      <th>28</th>\n",
       "      <td>2025-01-01</td>\n",
       "      <td>200.0</td>\n",
       "    </tr>\n",
       "    <tr>\n",
       "      <th>29</th>\n",
       "      <td>2025-02-01</td>\n",
       "      <td>200.0</td>\n",
       "    </tr>\n",
       "    <tr>\n",
       "      <th>973</th>\n",
       "      <td>2025-02-01</td>\n",
       "      <td>200.0</td>\n",
       "    </tr>\n",
       "  </tbody>\n",
       "</table>\n",
       "</div>"
      ],
      "text/plain": [
       "          date  prod_hydro\n",
       "0   2022-08-01       200.0\n",
       "61  2022-08-01       200.0\n",
       "1   2022-09-01       200.0\n",
       "92  2022-09-01       200.0\n",
       "2   2022-10-01       200.0\n",
       "122 2022-10-01       200.0\n",
       "3   2022-11-01       200.0\n",
       "153 2022-11-01       200.0\n",
       "4   2022-12-01         0.0\n",
       "183 2022-12-01       200.0\n",
       "212 2023-01-01       200.0\n",
       "5   2023-01-01       200.0\n",
       "243 2023-02-01       200.0\n",
       "6   2023-02-01       200.0\n",
       "271 2023-03-01       200.0\n",
       "7   2023-03-01       200.0\n",
       "8   2023-04-01       200.0\n",
       "302 2023-04-01       200.0\n",
       "362 2023-06-01       200.0\n",
       "9   2023-06-01       200.0\n",
       "10  2023-07-01       200.0\n",
       "392 2023-07-01       200.0\n",
       "11  2023-08-01       200.0\n",
       "423 2023-08-01       200.0\n",
       "12  2023-09-01       200.0\n",
       "454 2023-09-01       200.0\n",
       "484 2023-10-01       200.0\n",
       "13  2023-10-01       200.0\n",
       "515 2023-11-01       200.0\n",
       "14  2023-11-01       200.0\n",
       "545 2023-12-01       200.0\n",
       "15  2023-12-01       200.0\n",
       "16  2024-01-01       200.0\n",
       "576 2024-01-01       200.0\n",
       "607 2024-02-01       200.0\n",
       "17  2024-02-01       200.0\n",
       "636 2024-03-01       200.0\n",
       "18  2024-03-01       200.0\n",
       "667 2024-04-01       200.0\n",
       "19  2024-04-01       200.0\n",
       "697 2024-05-01       200.0\n",
       "20  2024-05-01       200.0\n",
       "728 2024-06-01       200.0\n",
       "21  2024-06-01       200.0\n",
       "758 2024-07-01       200.0\n",
       "22  2024-07-01       200.0\n",
       "789 2024-08-01       200.0\n",
       "23  2024-08-01       200.0\n",
       "24  2024-09-01       200.0\n",
       "820 2024-09-01       200.0\n",
       "850 2024-10-01       200.0\n",
       "25  2024-10-01       200.0\n",
       "881 2024-11-01       200.0\n",
       "26  2024-11-01       200.0\n",
       "911 2024-12-01       200.0\n",
       "27  2024-12-01       200.0\n",
       "942 2025-01-01       200.0\n",
       "28  2025-01-01       200.0\n",
       "29  2025-02-01       200.0\n",
       "973 2025-02-01       200.0"
      ]
     },
     "metadata": {},
     "output_type": "display_data"
    },
    {
     "name": "stdout",
     "output_type": "stream",
     "text": [
      "\n",
      "=== Solaire ===\n",
      "Aucun doublon trouvé ✅\n"
     ]
    }
   ],
   "source": [
    "# Localiser les doublons dans les 3 df\n",
    "\n",
    "for name, df in [(\"Eolienne\", df_eolienne), (\"Hydro\", df_hydro), (\"Solaire\", df_solaire)]:\n",
    "    print(f\"\\n=== {name} ===\")\n",
    "    doublons = df[df.duplicated(subset=[\"date\"], keep=False)]\n",
    "    if doublons.empty:\n",
    "        print(\"Aucun doublon trouvé ✅\")\n",
    "    else:\n",
    "        print(f\"{len(doublons)} doublons trouvés\")\n",
    "        display(doublons.sort_values(\"date\").head(70))  \n"
   ]
  },
  {
   "cell_type": "code",
   "execution_count": 7,
   "id": "19b1a250",
   "metadata": {},
   "outputs": [
    {
     "name": "stdout",
     "output_type": "stream",
     "text": [
      "Eolienne : 0 doublons restants\n",
      "Hydro    : 0 doublons restants\n",
      "Solaire  : 0 doublons restants\n"
     ]
    }
   ],
   "source": [
    "# Suppression des doublons (surtout pour df_hydro)\n",
    "# A voir si on laisse pour tout en cas d'automatisation avec nouvelle data\n",
    "# On garde la dernière occurence car c'est les premières qui sont mal classées\n",
    "\n",
    "# Suppression des doublons\n",
    "df_eolienne = df_eolienne.drop_duplicates(subset=[\"date\"], keep=\"last\")\n",
    "df_hydro = df_hydro.drop_duplicates(subset=[\"date\"], keep=\"last\")\n",
    "df_solaire = df_solaire.drop_duplicates(subset=[\"date\"], keep=\"last\")\n",
    "\n",
    "# Vérification\n",
    "print(\"Eolienne :\", df_eolienne[\"date\"].duplicated().sum(), \"doublons restants\")\n",
    "print(\"Hydro    :\", df_hydro[\"date\"].duplicated().sum(), \"doublons restants\")\n",
    "print(\"Solaire  :\", df_solaire[\"date\"].duplicated().sum(), \"doublons restants\")\n"
   ]
  },
  {
   "cell_type": "code",
   "execution_count": 8,
   "id": "33678c67",
   "metadata": {},
   "outputs": [],
   "source": [
    "\n",
    "# Supprimer la data unique pour un mois sur df_hydro (chaque début de moi en 2025 pour 6 mois)\n",
    "# En gros, 6 data inutiles à supprimer\n",
    "df_hydro = df_hydro[\n",
    "    df_hydro.groupby(df_hydro['date'].dt.to_period('M'))['date'].transform('count') > 1\n",
    "]\n",
    "\n",
    "\n"
   ]
  },
  {
   "cell_type": "code",
   "execution_count": null,
   "id": "2a2ba921",
   "metadata": {},
   "outputs": [
    {
     "name": "stdout",
     "output_type": "stream",
     "text": [
      "Dates manquantes solaire : DatetimeIndex(['2020-02-16', '2020-04-27', '2020-05-12', '2020-09-06'], dtype='datetime64[ns]', freq=None)\n",
      "Dates manquantes éolienne : DatetimeIndex(['2016-09-22', '2016-09-23', '2016-09-24', '2016-09-25',\n",
      "               '2017-05-17', '2018-04-15', '2018-04-16', '2019-06-23'],\n",
      "              dtype='datetime64[ns]', freq=None)\n",
      "Dates manquantes hydro : DatetimeIndex(['2022-12-19', '2022-12-20', '2023-05-22'], dtype='datetime64[ns]', freq=None)\n"
     ]
    }
   ],
   "source": [
    "# # Identifier les dates manquantes\n",
    "\n",
    "# # === Solaire ===\n",
    "# all_dates_solaire = pd.date_range(start=df_solaire['date'].min(), end=df_solaire['date'].max(), freq=\"D\")\n",
    "# missing_solaire = all_dates_solaire.difference(df_solaire['date'])\n",
    "# print(\"Dates manquantes solaire :\", missing_solaire)\n",
    "\n",
    "# # === Éolienne ===\n",
    "# all_dates_eolienne = pd.date_range(start=df_eolienne['date'].min(), end=df_eolienne['date'].max(), freq=\"D\")\n",
    "# missing_eolienne = all_dates_eolienne.difference(df_eolienne['date'])\n",
    "# print(\"Dates manquantes éolienne :\", missing_eolienne)\n",
    "\n",
    "# # === Hydro ===\n",
    "# all_dates_hydro = pd.date_range(start=df_hydro['date'].min(), end=df_hydro['date'].max(), freq=\"D\")\n",
    "# missing_hydro = all_dates_hydro.difference(df_hydro['date'])\n",
    "# print(\"Dates manquantes hydro :\", missing_hydro)\n"
   ]
  },
  {
   "cell_type": "code",
   "execution_count": 10,
   "id": "ec109b72",
   "metadata": {},
   "outputs": [],
   "source": [
    "# Fonction pour combler les dates manquantes par la médiane mensuelle\n",
    "# En tenant compte qu'on a pas la même plage calendaire entre df_eolienne / df_solaire & df_hydro\n",
    "def fill_missing_with_monthly_median(df, col_date, col_value, date_min, date_max):\n",
    "    # Reindexer sur la plage complète\n",
    "    df = df.set_index(col_date).reindex(\n",
    "        pd.date_range(start=date_min, end=date_max, freq=\"D\")\n",
    "    )\n",
    "    df.index.name = col_date\n",
    "\n",
    "    # Remplir avec la médiane mensuelle\n",
    "    df[col_value] = df[col_value].fillna(\n",
    "        df.groupby([df.index.year, df.index.month])[col_value].transform(\"median\")\n",
    "    )\n",
    "\n",
    "    return df.reset_index()\n",
    "\n",
    "\n",
    "# Application\n",
    "\n",
    "# Pour solaire et éolienne (plage commune)\n",
    "date_min = min(df_solaire['date'].min(), df_eolienne['date'].min())\n",
    "date_max = max(df_solaire['date'].max(), df_eolienne['date'].max())\n",
    "\n",
    "df_solaire = fill_missing_with_monthly_median(df_solaire, \"date\", \"prod_solaire\", date_min, date_max)\n",
    "df_eolienne = fill_missing_with_monthly_median(df_eolienne, \"date\", \"prod_eolienne\", date_min, date_max)\n",
    "\n",
    "# Pour hydro (plage spécifique)\n",
    "date_min_hydro = df_hydro['date'].min()\n",
    "date_max_hydro = df_hydro['date'].max()\n",
    "\n",
    "df_hydro = fill_missing_with_monthly_median(df_hydro, \"date\", \"prod_hydro\", date_min_hydro, date_max_hydro)\n"
   ]
  },
  {
   "cell_type": "code",
   "execution_count": 11,
   "id": "7e1c5074",
   "metadata": {},
   "outputs": [],
   "source": [
    "# Suppression des abérations sur les 3 df (positives comme négatives)\n",
    "# On remplace l'abération par la médiane du mois en cours\n",
    "\n",
    "def replace_outliers_with_monthly_median(df, col_date, col_value, min_val, max_val):\n",
    "    # Détection des valeurs aberrantes\n",
    "    mask_outliers = (df[col_value] < min_val) | (df[col_value] > max_val)\n",
    "\n",
    "    # Calcul des médianes mensuelles\n",
    "    monthly_medians = (\n",
    "        df.groupby([df[col_date].dt.year, df[col_date].dt.month])[col_value]\n",
    "        .transform(\"median\")\n",
    "    )\n",
    "\n",
    "    # Remplacement des valeurs aberrantes\n",
    "    df.loc[mask_outliers, col_value] = monthly_medians[mask_outliers]\n",
    "\n",
    "    return df\n",
    "\n",
    "\n",
    "# Application\n",
    "\n",
    "# Solaire : bornes 0 à 100\n",
    "df_solaire = replace_outliers_with_monthly_median(df_solaire, \"date\", \"prod_solaire\", 0, 100)\n",
    "\n",
    "# Éolienne : bornes 0 à 100\n",
    "df_eolienne = replace_outliers_with_monthly_median(df_eolienne, \"date\", \"prod_eolienne\", 0, 100)\n",
    "\n",
    "# Hydro : bornes 0 à 200\n",
    "df_hydro = replace_outliers_with_monthly_median(df_hydro, \"date\", \"prod_hydro\", 0, 200)\n"
   ]
  }
 ],
 "metadata": {
  "kernelspec": {
   "display_name": "predict-energy-production",
   "language": "python",
   "name": "python3"
  },
  "language_info": {
   "codemirror_mode": {
    "name": "ipython",
    "version": 3
   },
   "file_extension": ".py",
   "mimetype": "text/x-python",
   "name": "python",
   "nbconvert_exporter": "python",
   "pygments_lexer": "ipython3",
   "version": "3.12.11"
  }
 },
 "nbformat": 4,
 "nbformat_minor": 5
}
